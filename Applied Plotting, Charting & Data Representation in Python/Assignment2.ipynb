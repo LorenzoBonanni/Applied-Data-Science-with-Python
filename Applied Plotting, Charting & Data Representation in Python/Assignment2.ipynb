{
 "cells": [
  {
   "cell_type": "markdown",
   "metadata": {},
   "source": [
    "# Assignment 2\n",
    "\n",
    "Before working on this assignment please read these instructions fully. In the submission area, you will notice that you can click the link to **Preview the Grading** for each step of the assignment. This is the criteria that will be used for peer grading. Please familiarize yourself with the criteria before beginning the assignment.\n",
    "\n",
    "An NOAA dataset has been stored in the file `data/C2A2_data/BinnedCsvs_d400/fb441e62df2d58994928907a91895ec62c2c42e6cd075c2700843b89.csv`. This is the dataset to use for this assignment. Note: The data for this assignment comes from a subset of The National Centers for Environmental Information (NCEI) [Daily Global Historical Climatology Network](https://www1.ncdc.noaa.gov/pub/data/ghcn/daily/readme.txt) (GHCN-Daily). The GHCN-Daily is comprised of daily climate records from thousands of land surface stations across the globe.\n",
    "\n",
    "Each row in the assignment datafile corresponds to a single observation.\n",
    "\n",
    "The following variables are provided to you:\n",
    "\n",
    "* **id** : station identification code\n",
    "* **date** : date in YYYY-MM-DD format (e.g. 2012-01-24 = January 24, 2012)\n",
    "* **element** : indicator of element type\n",
    "    * TMAX : Maximum temperature (tenths of degrees C)\n",
    "    * TMIN : Minimum temperature (tenths of degrees C)\n",
    "* **value** : data value for element (tenths of degrees C)\n",
    "\n",
    "For this assignment, you must:\n",
    "\n",
    "1. Read the documentation and familiarize yourself with the dataset, then write some python code which returns a line graph of the record high and record low temperatures by day of the year over the period 2005-2014. The area between the record high and record low temperatures for each day should be shaded.\n",
    "2. Overlay a scatter of the 2015 data for any points (highs and lows) for which the ten year record (2005-2014) record high or record low was broken in 2015.\n",
    "3. Watch out for leap days (i.e. February 29th), it is reasonable to remove these points from the dataset for the purpose of this visualization.\n",
    "4. Make the visual nice! Leverage principles from the first module in this course when developing your solution. Consider issues such as legends, labels, and chart junk.\n",
    "\n",
    "The data you have been given is near **Ann Arbor, Michigan, United States**, and the stations the data comes from are shown on the map below."
   ]
  },
  {
   "cell_type": "code",
   "execution_count": 4,
   "metadata": {
    "collapsed": false,
    "jupyter": {
     "outputs_hidden": false
    }
   },
   "outputs": [],
   "source": [
    "%matplotlib widget\n",
    "\n",
    "import matplotlib.pyplot as plt\n",
    "import matplotlib.dates as mdates\n",
    "import mplleaflet\n",
    "import pandas as pd\n",
    "import calendar\n",
    "import datetime\n",
    "\n",
    "\n",
    "binsize = 400\n",
    "hashid = \"fb441e62df2d58994928907a91895ec62c2c42e6cd075c2700843b89\"\n",
    "\n",
    "def get_data():\n",
    "    df = pd.read_csv('data/C2A2_data/BinSize_d{}.csv'.format(binsize))\n",
    "    return df[df['hash'] == hashid]\n",
    "\n",
    "def leaflet_plot_stations():\n",
    "    station_locations_by_hash = get_data()\n",
    "    \n",
    "    lons = station_locations_by_hash['LONGITUDE'].tolist()\n",
    "    lats = station_locations_by_hash['LATITUDE'].tolist()\n",
    "    \n",
    "    plt.figure(figsize=(8,8))\n",
    "\n",
    "    plt.scatter(lons, lats, c='r', alpha=0.7, s=200)\n",
    "\n",
    "    return mplleaflet.display()\n",
    "\n",
    "# leaflet_plot_stations()"
   ]
  },
  {
   "cell_type": "code",
   "execution_count": 5,
   "metadata": {
    "tags": []
   },
   "outputs": [],
   "source": [
    "# Select only intersted columns and creates Day and Month columns\n",
    "def prepare_dataset(df):\n",
    "    df = df[[\"ID\", \"Date\", \"Element\", \"Data_Value\"]].copy()\n",
    "    df['Day'] = df[\"Date\"].dt.day.values\n",
    "    df['Month'] = df[\"Date\"].dt.month.values\n",
    "    return df"
   ]
  },
  {
   "cell_type": "code",
   "execution_count": 6,
   "metadata": {
    "tags": []
   },
   "outputs": [],
   "source": [
    "# Delete Leap Days\n",
    "def remove_leap(df):\n",
    "    return df[~((df[\"Day\"] == 29) & (df[\"Month\"] == 2))]"
   ]
  },
  {
   "cell_type": "code",
   "execution_count": 7,
   "metadata": {
    "collapsed": false,
    "jupyter": {
     "outputs_hidden": false
    }
   },
   "outputs": [
    {
     "ename": "NameError",
     "evalue": "name 'get_max_min' is not defined",
     "output_type": "error",
     "traceback": [
      "\u001b[0;31m---------------------------------------------------------------------------\u001b[0m",
      "\u001b[0;31mNameError\u001b[0m                                 Traceback (most recent call last)",
      "\u001b[0;32m<ipython-input-7-46d3b798bd40>\u001b[0m in \u001b[0;36m<module>\u001b[0;34m\u001b[0m\n\u001b[1;32m     28\u001b[0m \u001b[0;34m\u001b[0m\u001b[0m\n\u001b[1;32m     29\u001b[0m \u001b[0;31m# Calulate Max and Min temps datasets\u001b[0m\u001b[0;34m\u001b[0m\u001b[0;34m\u001b[0m\u001b[0;34m\u001b[0m\u001b[0m\n\u001b[0;32m---> 30\u001b[0;31m \u001b[0mdfMin_05_14\u001b[0m\u001b[0;34m,\u001b[0m \u001b[0mdfMax_05_14\u001b[0m \u001b[0;34m=\u001b[0m \u001b[0mget_max_min\u001b[0m\u001b[0;34m(\u001b[0m\u001b[0mtemp_df_05_14\u001b[0m\u001b[0;34m)\u001b[0m\u001b[0;34m\u001b[0m\u001b[0;34m\u001b[0m\u001b[0m\n\u001b[0m\u001b[1;32m     31\u001b[0m \u001b[0mdfMin_15\u001b[0m\u001b[0;34m,\u001b[0m \u001b[0mdfMax_15\u001b[0m \u001b[0;34m=\u001b[0m \u001b[0mget_max_min\u001b[0m\u001b[0;34m(\u001b[0m\u001b[0mtemp_df_15\u001b[0m\u001b[0;34m)\u001b[0m\u001b[0;34m\u001b[0m\u001b[0;34m\u001b[0m\u001b[0m\n\u001b[1;32m     32\u001b[0m \u001b[0;34m\u001b[0m\u001b[0m\n",
      "\u001b[0;31mNameError\u001b[0m: name 'get_max_min' is not defined"
     ]
    }
   ],
   "source": [
    "df = get_data()\n",
    "\n",
    "temp_df = pd.read_csv(\"data/C2A2_data/BinnedCsvs_d400/fb441e62df2d58994928907a91895ec62c2c42e6cd075c2700843b89.csv\")\n",
    "temp_df.reset_index(inplace=True)\n",
    "temp_df = df.merge(temp_df, how='left', on=\"ID\")\n",
    "\n",
    "temp_df[\"Data_Value\"] = temp_df[\"Data_Value\"] / 10\n",
    "# convert date columnt to datetime type\n",
    "temp_df[\"Date\"] = pd.to_datetime(temp_df[\"Date\"])\n",
    "\n",
    "# line graph of the record high and record low temperatures by day of the year over the period 2005-2014. \n",
    "# The area between the record high and record low temperatures for each day should be shaded.\n",
    "\n",
    "# get only data between 2005 and 2014\n",
    "temp_df_05_14 = temp_df[(temp_df[\"Date\"]>'2004') & (temp_df[\"Date\"]<'2015')].copy()\n",
    "\n",
    "# get only data for 2015\n",
    "temp_df_15 = temp_df[(temp_df[\"Date\"]>'2014') & (temp_df[\"Date\"]<'2016')].copy()\n",
    "\n",
    "\n",
    "# Prepare Datasets\n",
    "temp_df_05_14 = prepare_dataset(temp_df_05_14)\n",
    "temp_df_15 = prepare_dataset(temp_df_15)\n",
    "\n",
    "# Delete Leap Days\n",
    "temp_df_05_14 = remove_leap(temp_df_05_14)\n",
    "temp_df_15 = remove_leap(temp_df_15)\n",
    "\n",
    "# Calulate Max and Min temps datasets\n",
    "dfMin_05_14, dfMax_05_14 = get_max_min(temp_df_05_14)\n",
    "dfMin_15, dfMax_15 = get_max_min(temp_df_15)\n",
    "\n",
    "#\n",
    "dfMin_15 = dfMin_15[dfMin_15[\"Data_Value\"] < dfMin_05_14[\"Data_Value\"]]\n",
    "dfMax_15 = dfMax_15[dfMax_15[\"Data_Value\"] > dfMax_05_14[\"Data_Value\"]]\n",
    "\n",
    "plt.figure(figsize=(10, 5))\n",
    "plt.title(\"The interval of minimum and maximum temperatures for 2005-2014 \\n and temperatures of 2015, dropping out of the interval\",\n",
    "          family='sans-serif',\n",
    "          size=11\n",
    "         )\n",
    "\n",
    "# Line PLot\n",
    "plt.plot_date(dfMax_05_14.index.values, dfMax_05_14[\"Data_Value\"], '-r', label='Record High 2005-2014', alpha=0.8, lw=0.7)\n",
    "plt.plot_date(dfMin_05_14.index.values, dfMin_05_14[\"Data_Value\"], '-b', label='Record Low 2005-2014', alpha=0.8, lw=0.7)\n",
    "\n",
    "plt.fill_between(dfMax_05_14.index.values, dfMax_05_14[\"Data_Value\"].values, dfMin_05_14[\"Data_Value\"].values, facecolor='whitesmoke', alpha=0.8)\n",
    "\n",
    "# Scatter Plot\n",
    "plt.plot_date(dfMax_15.index.values, dfMax_15[\"Data_Value\"], 'or', label='2015 above Max')\n",
    "plt.plot_date(dfMin_15.index.values, dfMin_15[\"Data_Value\"], 'ob', label='2015 below Min')\n",
    "\n",
    "\n",
    "# align plot start and finish with axis start and finish\n",
    "plt.xlim(datetime.date(1900, 1, 1), datetime.date(1900, 12, 31))\n",
    "\n",
    "# Remove top and right box\n",
    "ax = plt.gca()\n",
    "ax.spines['top'].set_visible(False)\n",
    "ax.spines['right'].set_visible(False)\n",
    "ax.spines['bottom'].set_color(\"dimgrey\")\n",
    "ax.spines['left'].set_color(\"dimgrey\")\n",
    "ax.spines['bottom'].set_alpha(0.5)\n",
    "ax.spines['left'].set_alpha(0.5)\n",
    "\n",
    "# Set months names on x axis\n",
    "\n",
    "# Set the locator\n",
    "locator = mdates.MonthLocator()  # every month\n",
    "# Specify the format - %b gives us Jan, Feb...\n",
    "fmt = mdates.DateFormatter('%b')\n",
    "\n",
    "X = ax.xaxis\n",
    "X.set_major_locator(locator)\n",
    "# Specify formatter\n",
    "X.set_major_formatter(fmt)\n",
    "\n",
    "# Create a Legend\n",
    "leg = plt.legend()\n",
    "leg.get_frame().set_linewidth(0.0)\n",
    "\n",
    "plt.ylabel(\"Temperature(°C)\", color=\"dimgrey\", alpha=0.8)\n",
    "\n",
    "plt.show()"
   ]
  },
  {
   "cell_type": "code",
   "execution_count": null,
   "metadata": {
    "collapsed": true,
    "jupyter": {
     "outputs_hidden": true
    }
   },
   "outputs": [],
   "source": []
  },
  {
   "cell_type": "code",
   "execution_count": null,
   "metadata": {},
   "outputs": [],
   "source": []
  }
 ],
 "metadata": {
  "kernelspec": {
   "display_name": "Python 3",
   "language": "python",
   "name": "python3"
  },
  "language_info": {
   "codemirror_mode": {
    "name": "ipython",
    "version": 3
   },
   "file_extension": ".py",
   "mimetype": "text/x-python",
   "name": "python",
   "nbconvert_exporter": "python",
   "pygments_lexer": "ipython3",
   "version": "3.8.8"
  }
 },
 "nbformat": 4,
 "nbformat_minor": 4
}
