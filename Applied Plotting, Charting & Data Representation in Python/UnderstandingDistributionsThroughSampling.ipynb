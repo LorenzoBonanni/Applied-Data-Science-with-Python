{
 "cells": [
  {
   "cell_type": "markdown",
   "id": "54f89d00-c6b6-464d-bad8-0940d275a0ea",
   "metadata": {},
   "source": [
    "# Practice Assignment: Understanding Distributions Through Sampling\n",
    "\n",
    "** *This assignment is optional, and I encourage you to share your solutions with me and your peers in the discussion forums!* **\n",
    "\n",
    "\n",
    "To complete this assignment, create a code cell that:\n",
    "* Creates a number of subplots using the `pyplot subplots` or `matplotlib gridspec` functionality.\n",
    "* Creates an animation, pulling between 100 and 1000 samples from each of the random variables (`x1`, `x2`, `x3`, `x4`) for each plot and plotting this as we did in the lecture on animation.\n",
    "* **Bonus:** Go above and beyond and \"wow\" your classmates (and me!) by looking into matplotlib widgets and adding a widget which allows for parameterization of the distributions behind the sampling animations.\n",
    "\n",
    "\n",
    "Tips:\n",
    "* Before you start, think about the different ways you can create this visualization to be as interesting and effective as possible.\n",
    "* Take a look at the histograms below to get an idea of what the random variables look like, as well as their positioning with respect to one another. This is just a guide, so be creative in how you lay things out!\n",
    "* Try to keep the length of your animation reasonable (roughly between 10 and 30 seconds)."
   ]
  },
  {
   "cell_type": "code",
   "execution_count": 1,
   "id": "3272b8eb-9253-48b0-95d9-a6e5cb26a3d7",
   "metadata": {},
   "outputs": [],
   "source": [
    "%matplotlib widget\n",
    "import matplotlib.animation as animation\n",
    "import matplotlib.pyplot as plt\n",
    "import numpy as np\n",
    "\n",
    "n = 1000\n",
    "# generate 4 random variables from the random, gamma, exponential, and uniform distributions\n",
    "x1 = np.random.normal(-2.5, 1, 10000)\n",
    "x2 = np.random.gamma(2, 1.5, 10000)\n",
    "x3 = np.random.exponential(2, 10000)+7\n",
    "x4 = np.random.uniform(14,20, 10000)"
   ]
  },
  {
   "cell_type": "code",
   "execution_count": 2,
   "id": "7b8bf27b-635a-4184-b15a-590228f7211b",
   "metadata": {},
   "outputs": [],
   "source": [
    "\n",
    "# update functions\n",
    "def update_normal(curr):\n",
    "    normal_axes.cla()\n",
    "    normal_axes.hist(x1[:curr], bins=20,alpha=0.5, color='tab:blue')\n",
    "    normal_axes.set_title('Sampling the Normal Distribution')\n",
    "    figure.suptitle(f'samples={curr}')\n",
    "    \n",
    "def update_gamma(curr):\n",
    "    gamma_axes.cla()\n",
    "    gamma_axes.hist(x2[:curr], bins=20,alpha=0.5, color='tab:orange')\n",
    "    gamma_axes.set_title(f'Sampling the Gamma Distribution')\n",
    "    \n",
    "def update_exp(curr):\n",
    "    exponential_axes.cla()\n",
    "    exponential_axes.hist(x3[:curr], bins=20,alpha=0.5, color='tab:green')\n",
    "    exponential_axes.set_title(f'Sampling the Exponential Distribution')\n",
    "    \n",
    "def update_uniform(curr):\n",
    "    uniform_axes.cla()\n",
    "    uniform_axes.hist(x4[:curr], bins=20,alpha=0.5, color='tab:purple')\n",
    "    uniform_axes.set_title(f'Sampling the Uniform Distribution')"
   ]
  },
  {
   "cell_type": "code",
   "execution_count": 3,
   "id": "80e0850e-c5e9-4255-91a8-d63da67be374",
   "metadata": {},
   "outputs": [
    {
     "data": {
      "application/vnd.jupyter.widget-view+json": {
       "model_id": "74948471cbbe454eb84a5a8644f0717e",
       "version_major": 2,
       "version_minor": 0
      },
      "text/plain": [
       "Canvas(toolbar=Toolbar(toolitems=[('Home', 'Reset original view', 'home', 'home'), ('Back', 'Back to previous …"
      ]
     },
     "metadata": {},
     "output_type": "display_data"
    }
   ],
   "source": [
    "figure, ((normal_axes, gamma_axes), (exponential_axes, uniform_axes)) = plt.subplots(nrows=2, ncols=2)\n",
    "a_normal = animation.FuncAnimation(normal_axes.figure, update_normal, interval=100, blit=True, frames=range(100, 1001, 5), repeat=False)\n",
    "a_gamma = animation.FuncAnimation(gamma_axes.figure, update_gamma, interval=100, blit=True, frames=range(100, 1001, 5), repeat=False)\n",
    "a_exp = animation.FuncAnimation(exponential_axes.figure, update_exp, interval=100, blit=True, frames=range(100, 1001, 5), repeat=False)\n",
    "a_uniform = animation.FuncAnimation(uniform_axes.figure, update_uniform, interval=100, blit=True, frames=range(100, 1001, 5), repeat=False)\n",
    "figure.tight_layout()\n",
    "figure.subplots_adjust(top=0.88, wspace=0.5, hspace=0.5) "
   ]
  },
  {
   "cell_type": "code",
   "execution_count": null,
   "id": "2557eb19-e8e7-4db6-8a3c-9e4fb81742ac",
   "metadata": {},
   "outputs": [],
   "source": []
  },
  {
   "cell_type": "code",
   "execution_count": null,
   "id": "25ae9b90-1f25-456e-bef3-e9529d5b7a83",
   "metadata": {},
   "outputs": [],
   "source": []
  },
  {
   "cell_type": "code",
   "execution_count": null,
   "id": "0844760c-f4b3-45f9-bc79-62bb30b2e66b",
   "metadata": {},
   "outputs": [],
   "source": []
  }
 ],
 "metadata": {
  "kernelspec": {
   "display_name": "Python 3",
   "language": "python",
   "name": "python3"
  },
  "language_info": {
   "codemirror_mode": {
    "name": "ipython",
    "version": 3
   },
   "file_extension": ".py",
   "mimetype": "text/x-python",
   "name": "python",
   "nbconvert_exporter": "python",
   "pygments_lexer": "ipython3",
   "version": "3.8.8"
  }
 },
 "nbformat": 4,
 "nbformat_minor": 5
}
